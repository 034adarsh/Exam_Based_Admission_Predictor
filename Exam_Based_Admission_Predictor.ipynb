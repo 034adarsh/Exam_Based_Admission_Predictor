{
  "nbformat": 4,
  "nbformat_minor": 0,
  "metadata": {
    "colab": {
      "provenance": [],
      "authorship_tag": "ABX9TyOV4UhG222xK48rPcnSPlTb",
      "include_colab_link": true
    },
    "kernelspec": {
      "name": "python3",
      "display_name": "Python 3"
    },
    "language_info": {
      "name": "python"
    }
  },
  "cells": [
    {
      "cell_type": "markdown",
      "metadata": {
        "id": "view-in-github",
        "colab_type": "text"
      },
      "source": [
        "<a href=\"https://colab.research.google.com/github/034adarsh/Exam_Based_Admission_Predictor/blob/main/Exam_Based_Admission_Predictor.ipynb\" target=\"_parent\"><img src=\"https://colab.research.google.com/assets/colab-badge.svg\" alt=\"Open In Colab\"/></a>"
      ]
    },
    {
      "cell_type": "markdown",
      "source": [
        "## Exam Based Admission Prediction Model\n",
        "\n",
        "---\n",
        "\n"
      ],
      "metadata": {
        "id": "2t1CI7PtOktX"
      }
    },
    {
      "cell_type": "markdown",
      "source": [
        "Step-1: Import the required libraries "
      ],
      "metadata": {
        "id": "eXiW5ofROdYn"
      }
    },
    {
      "cell_type": "code",
      "execution_count": 18,
      "metadata": {
        "id": "XLmhPTAsMyo_"
      },
      "outputs": [],
      "source": [
        "import pandas as pd\n",
        "from sklearn.linear_model import LogisticRegression\n",
        "from sklearn.model_selection import train_test_split\n",
        "from sklearn.metrics import confusion_matrix, accuracy_score\n",
        "import matplotlib.pyplot as plt\n",
        "import plotly.express as px\n",
        "import seaborn as sns"
      ]
    },
    {
      "cell_type": "markdown",
      "source": [
        "Step-2: Loading the dataset"
      ],
      "metadata": {
        "id": "XhGDxKF8O-cV"
      }
    },
    {
      "cell_type": "code",
      "source": [
        "data = pd.read_csv('SetD_dataset.csv')\n",
        "data.head()"
      ],
      "metadata": {
        "colab": {
          "base_uri": "https://localhost:8080/",
          "height": 206
        },
        "id": "d1ZZLzg0PC9z",
        "outputId": "6f12e689-a789-44c3-ab26-e0c2c78fa7a7"
      },
      "execution_count": 19,
      "outputs": [
        {
          "output_type": "execute_result",
          "data": {
            "text/plain": [
              "      paper1     paper2  admission\n",
              "0  34.623660  78.024693          0\n",
              "1  30.286711  43.894998          0\n",
              "2  35.847409  72.902198          0\n",
              "3  60.182599  86.308552          1\n",
              "4  79.032736  75.344376          1"
            ],
            "text/html": [
              "\n",
              "  <div id=\"df-7cc47bdb-35f7-442b-a42a-e4c7befb78e1\">\n",
              "    <div class=\"colab-df-container\">\n",
              "      <div>\n",
              "<style scoped>\n",
              "    .dataframe tbody tr th:only-of-type {\n",
              "        vertical-align: middle;\n",
              "    }\n",
              "\n",
              "    .dataframe tbody tr th {\n",
              "        vertical-align: top;\n",
              "    }\n",
              "\n",
              "    .dataframe thead th {\n",
              "        text-align: right;\n",
              "    }\n",
              "</style>\n",
              "<table border=\"1\" class=\"dataframe\">\n",
              "  <thead>\n",
              "    <tr style=\"text-align: right;\">\n",
              "      <th></th>\n",
              "      <th>paper1</th>\n",
              "      <th>paper2</th>\n",
              "      <th>admission</th>\n",
              "    </tr>\n",
              "  </thead>\n",
              "  <tbody>\n",
              "    <tr>\n",
              "      <th>0</th>\n",
              "      <td>34.623660</td>\n",
              "      <td>78.024693</td>\n",
              "      <td>0</td>\n",
              "    </tr>\n",
              "    <tr>\n",
              "      <th>1</th>\n",
              "      <td>30.286711</td>\n",
              "      <td>43.894998</td>\n",
              "      <td>0</td>\n",
              "    </tr>\n",
              "    <tr>\n",
              "      <th>2</th>\n",
              "      <td>35.847409</td>\n",
              "      <td>72.902198</td>\n",
              "      <td>0</td>\n",
              "    </tr>\n",
              "    <tr>\n",
              "      <th>3</th>\n",
              "      <td>60.182599</td>\n",
              "      <td>86.308552</td>\n",
              "      <td>1</td>\n",
              "    </tr>\n",
              "    <tr>\n",
              "      <th>4</th>\n",
              "      <td>79.032736</td>\n",
              "      <td>75.344376</td>\n",
              "      <td>1</td>\n",
              "    </tr>\n",
              "  </tbody>\n",
              "</table>\n",
              "</div>\n",
              "      <button class=\"colab-df-convert\" onclick=\"convertToInteractive('df-7cc47bdb-35f7-442b-a42a-e4c7befb78e1')\"\n",
              "              title=\"Convert this dataframe to an interactive table.\"\n",
              "              style=\"display:none;\">\n",
              "        \n",
              "  <svg xmlns=\"http://www.w3.org/2000/svg\" height=\"24px\"viewBox=\"0 0 24 24\"\n",
              "       width=\"24px\">\n",
              "    <path d=\"M0 0h24v24H0V0z\" fill=\"none\"/>\n",
              "    <path d=\"M18.56 5.44l.94 2.06.94-2.06 2.06-.94-2.06-.94-.94-2.06-.94 2.06-2.06.94zm-11 1L8.5 8.5l.94-2.06 2.06-.94-2.06-.94L8.5 2.5l-.94 2.06-2.06.94zm10 10l.94 2.06.94-2.06 2.06-.94-2.06-.94-.94-2.06-.94 2.06-2.06.94z\"/><path d=\"M17.41 7.96l-1.37-1.37c-.4-.4-.92-.59-1.43-.59-.52 0-1.04.2-1.43.59L10.3 9.45l-7.72 7.72c-.78.78-.78 2.05 0 2.83L4 21.41c.39.39.9.59 1.41.59.51 0 1.02-.2 1.41-.59l7.78-7.78 2.81-2.81c.8-.78.8-2.07 0-2.86zM5.41 20L4 18.59l7.72-7.72 1.47 1.35L5.41 20z\"/>\n",
              "  </svg>\n",
              "      </button>\n",
              "      \n",
              "  <style>\n",
              "    .colab-df-container {\n",
              "      display:flex;\n",
              "      flex-wrap:wrap;\n",
              "      gap: 12px;\n",
              "    }\n",
              "\n",
              "    .colab-df-convert {\n",
              "      background-color: #E8F0FE;\n",
              "      border: none;\n",
              "      border-radius: 50%;\n",
              "      cursor: pointer;\n",
              "      display: none;\n",
              "      fill: #1967D2;\n",
              "      height: 32px;\n",
              "      padding: 0 0 0 0;\n",
              "      width: 32px;\n",
              "    }\n",
              "\n",
              "    .colab-df-convert:hover {\n",
              "      background-color: #E2EBFA;\n",
              "      box-shadow: 0px 1px 2px rgba(60, 64, 67, 0.3), 0px 1px 3px 1px rgba(60, 64, 67, 0.15);\n",
              "      fill: #174EA6;\n",
              "    }\n",
              "\n",
              "    [theme=dark] .colab-df-convert {\n",
              "      background-color: #3B4455;\n",
              "      fill: #D2E3FC;\n",
              "    }\n",
              "\n",
              "    [theme=dark] .colab-df-convert:hover {\n",
              "      background-color: #434B5C;\n",
              "      box-shadow: 0px 1px 3px 1px rgba(0, 0, 0, 0.15);\n",
              "      filter: drop-shadow(0px 1px 2px rgba(0, 0, 0, 0.3));\n",
              "      fill: #FFFFFF;\n",
              "    }\n",
              "  </style>\n",
              "\n",
              "      <script>\n",
              "        const buttonEl =\n",
              "          document.querySelector('#df-7cc47bdb-35f7-442b-a42a-e4c7befb78e1 button.colab-df-convert');\n",
              "        buttonEl.style.display =\n",
              "          google.colab.kernel.accessAllowed ? 'block' : 'none';\n",
              "\n",
              "        async function convertToInteractive(key) {\n",
              "          const element = document.querySelector('#df-7cc47bdb-35f7-442b-a42a-e4c7befb78e1');\n",
              "          const dataTable =\n",
              "            await google.colab.kernel.invokeFunction('convertToInteractive',\n",
              "                                                     [key], {});\n",
              "          if (!dataTable) return;\n",
              "\n",
              "          const docLinkHtml = 'Like what you see? Visit the ' +\n",
              "            '<a target=\"_blank\" href=https://colab.research.google.com/notebooks/data_table.ipynb>data table notebook</a>'\n",
              "            + ' to learn more about interactive tables.';\n",
              "          element.innerHTML = '';\n",
              "          dataTable['output_type'] = 'display_data';\n",
              "          await google.colab.output.renderOutput(dataTable, element);\n",
              "          const docLink = document.createElement('div');\n",
              "          docLink.innerHTML = docLinkHtml;\n",
              "          element.appendChild(docLink);\n",
              "        }\n",
              "      </script>\n",
              "    </div>\n",
              "  </div>\n",
              "  "
            ]
          },
          "metadata": {},
          "execution_count": 19
        }
      ]
    },
    {
      "cell_type": "markdown",
      "source": [
        "Step-3: Visualization of the dataset"
      ],
      "metadata": {
        "id": "V4jJ4XFgmlD7"
      }
    },
    {
      "cell_type": "code",
      "source": [
        "# Extract the exam scores\n",
        "exam1_scores = data['paper1']\n",
        "exam2_scores = data['paper2']\n",
        "\n",
        "# Plotting the bar graph\n",
        "fig, ax = plt.subplots(figsize=(8, 6))\n",
        "ax.bar(range(len(exam1_scores)), exam1_scores, width=0.4, label='Exam 1')\n",
        "ax.bar(range(len(exam2_scores)), exam2_scores, width=0.4, label='Exam 2')\n",
        "\n",
        "# Adding labels and title\n",
        "ax.set_xlabel('Applicants')\n",
        "ax.set_ylabel('Marks')\n",
        "ax.set_title('Marks of Exam 1 and Exam 2')\n",
        "\n",
        "# Adding legend and adjusting the layout\n",
        "ax.legend()\n",
        "plt.tight_layout()\n",
        "\n",
        "# Display "
      ],
      "metadata": {
        "colab": {
          "base_uri": "https://localhost:8080/",
          "height": 607
        },
        "id": "oS9IzQwumqt6",
        "outputId": "b95510bc-cf88-48dc-a161-a4ad445916bd"
      },
      "execution_count": 30,
      "outputs": [
        {
          "output_type": "display_data",
          "data": {
            "text/plain": [
              "<Figure size 800x600 with 1 Axes>"
            ],
            "image/png": "[encoded data removed]"
          },
          "metadata": {}
        }
      ]
    },
    {
      "cell_type": "code",
      "source": [
        "fig = px.sunburst(data,\n",
        "                  path = ['paper1', 'paper2'],\n",
        "                  color = 'admission', title = 'Sunburst Chart of the dataset')\n",
        "fig.show()"
      ],
      "metadata": {
        "colab": {
          "base_uri": "https://localhost:8080/",
          "height": 542
        },
        "id": "sGgfwdzxog9_",
        "outputId": "e7bdfbe0-e245-4f40-dc47-094a084f75fb"
      },
      "execution_count": 34,
      "outputs": [
        {
          "output_type": "display_data",
          "data": {
            "text/html": [
              "<html>\n",
              "<head><meta charset=\"utf-8\" /></head>\n",
              "<body>\n",
              "    <div>            <script src=\"https://cdnjs.cloudflare.com/ajax/libs/mathjax/2.7.5/MathJax.js?config=TeX-AMS-MML_SVG\"></script><script type=\"text/javascript\">if (window.MathJax && window.MathJax.Hub && window.MathJax.Hub.Config) {window.MathJax.Hub.Config({SVG: {font: \"STIX-Web\"}});}</script>                <script type=\"text/javascript\">window.PlotlyConfig = {MathJaxConfig: 'local'};</script>\n",
              "        <script src=\"https://cdn.plot.ly/plotly-2.18.2.min.js\"></script>                <div id=\"5b6f845a-dea9-42bd-869f-b5f64a66baa0\" class=\"plotly-graph-div\" style=\"height:525px; width:100%;\"></div>            <script type=\"text/javascript\">                                    window.PLOTLYENV=window.PLOTLYENV || {};                                    if (document.getElementById(\"5b6f845a-dea9-42bd-869f-b5f64a66baa0\")) {                    Plotly.newPlot(                        \"5b6f845a-dea9-42bd-869f-b5f64a66baa0\",                        [{\"branchvalues\":\"total\",\"customdata\":[[0.0],[0.0],[0.0],[0.0],[0.0],[0.0],[0.0],[0.0],[0.0],[0.0],[0.0],[0.0],[1.0],[1.0],[0.0],[0.0],[1.0],[1.0],[1.0],[0.0],[1.0],[0.0],[0.0],[0.0],[1.0],[1.0],[0.0],[0.0],[0.0],[0.0],[0.0],[0.0],[0.0],[1.0],[1.0],[0.0],[1.0],[1.0],[0.0],[0.0],[0.0],[1.0],[1.0],[0.0],[1.0],[0.0],[1.0],[1.0],[0.0],[1.0],[1.0],[1.0],[1.0],[1.0],[1.0],[1.0],[1.0],[1.0],[0.0],[1.0],[1.0],[0.0],[1.0],[1.0],[0.0],[1.0],[1.0],[1.0],[0.0],[1.0],[1.0],[0.0],[1.0],[1.0],[0.0],[1.0],[1.0],[1.0],[1.0],[1.0],[1.0],[1.0],[1.0],[1.0],[1.0],[1.0],[1.0],[1.0],[1.0],[1.0],[1.0],[1.0],[0.0],[1.0],[1.0],[1.0],[1.0],[1.0],[1.0],[0.0],[0.0],[0.0],[0.0],[0.0],[0.0],[0.0],[0.0],[0.0],[0.0],[0.0],[0.0],[0.0],[0.0],[0.0],[1.0],[0.0],[1.0],[0.0],[0.0],[1.0],[0.0],[0.0],[0.0],[1.0],[0.0],[0.0],[0.0],[1.0],[0.0],[0.0],[1.0],[0.0],[1.0],[0.0],[0.0],[1.0],[1.0],[1.0],[0.0],[1.0],[1.0],[1.0],[0.0],[1.0],[0.0],[1.0],[1.0],[1.0],[0.0],[1.0],[1.0],[0.0],[0.0],[1.0],[1.0],[1.0],[1.0],[1.0],[1.0],[1.0],[1.0],[1.0],[0.0],[0.0],[1.0],[1.0],[1.0],[1.0],[1.0],[1.0],[1.0],[1.0],[1.0],[1.0],[1.0],[1.0],[1.0],[0.0],[1.0],[0.0],[1.0],[1.0],[1.0],[1.0],[1.0],[1.0],[1.0],[1.0],[1.0],[1.0],[0.0],[1.0],[1.0],[1.0],[0.0],[1.0],[1.0],[1.0],[1.0],[1.0]],\"domain\":{\"x\":[0.0,1.0],\"y\":[0.0,1.0]},\"hovertemplate\":\"labels=%{label}<br>count=%{value}<br>parent=%{parent}<br>id=%{id}<br>admission=%{color}<extra></extra>\",\"ids\":[\"75.01365839/30.60326323\",\"55.48216114/35.57070347\",\"95.86155507/38.22527806\",\"93.1143888/38.80067034\",\"56.2538175/39.26147251\",\"82.36875376/40.61825516\",\"66.56089447/41.09209808\",\"74.78925296/41.57341523\",\"60.45555629/42.50840944\",\"82.22666158/42.71987854\",\"67.37202755/42.83843832\",\"32.72283304/43.30717306\",\"90.54671411/43.39060181\",\"84.43281996/43.53339331\",\"30.28671077/43.89499752\",\"34.21206098/44.2095286\",\"80.19018075/44.82162893\",\"89.84580671/45.35828361\",\"94.83450672/45.6943068\",\"51.04775177/45.82270146\",\"75.02474557/46.55401354\",\"67.94685548/46.67857411\",\"51.54772027/46.85629026\",\"35.28611282/47.02051395\",\"76.97878373/47.57596365\",\"83.48916274/48.3802858\",\"50.53478829/48.85581153\",\"30.05882245/49.59297387\",\"50.28649612/49.80453881\",\"61.83020602/50.25610789\",\"49.07256322/51.88321182\",\"62.22267576/52.06099195\",\"54.63510555/52.21388588\",\"69.07014406/52.74046973\",\"83.90239366/56.30804622\",\"45.08327748/56.31637178\",\"85.40451939/57.05198398\",\"57.23870632/59.51428198\",\"49.58667722/59.80895099\",\"34.52451385/60.39634246\",\"52.34800399/60.76950526\",\"66.74671857/60.99139403\",\"99.27252693/60.999031\",\"52.10797973/63.12762377\",\"55.34001756/64.93193801\",\"38.7858038/64.99568096\",\"94.44336777/65.56892161\",\"89.67677575/65.79936593\",\"44.66826172/66.45008615\",\"67.31925747/66.58935318\",\"99.31500881/68.77540947\",\"97.64563396/68.86157272\",\"77.92409145/68.97235999\",\"52.04540477/69.43286012\",\"88.91389642/69.8037889\",\"74.24869137/69.82457123\",\"62.27101367/69.95445795\",\"77.19303493/70.4582\",\"40.23689374/71.16774802\",\"99.8278578/72.36925193\",\"61.37928945/72.80788731\",\"35.84740877/72.90219803\",\"60.45788574/73.0949981\",\"79.94481794/74.16311935\",\"34.18364003/75.23772034\",\"79.03273605/75.34437644\",\"50.4581598/75.80985953\",\"58.84095622/75.85844831\",\"39.53833914/76.03681085\",\"82.30705337/76.4819633\",\"94.09433113/77.15910509\",\"34.62365962/78.02469282\",\"64.03932042/78.03168802\",\"71.79646206/78.45356225\",\"42.07545454/78.844786\",\"64.17698887/80.90806059\",\"74.49269242/84.84513685\",\"68.46852179/85.5943071\",\"75.39561147/85.75993667\",\"60.18259939/86.3085521\",\"97.77159928/86.72782233\",\"42.26170081/87.10385094\",\"76.0987867/87.42056972\",\"90.44855097/87.50879176\",\"47.26426911/88.475865\",\"91.5649745/88.69629255\",\"53.97105215/89.20735014\",\"74.775893/89.5298129\",\"75.47770201/90.424539\",\"80.366756/90.9601479\",\"80.27957401/92.11606081\",\"70.66150955/92.92713789\",\"32.57720017/95.59854761\",\"72.34649423/96.22759297\",\"61.10666454/96.51142588\",\"78.63542435/96.64742717\",\"62.0730638/96.76882412\",\"40.45755098/97.53518549\",\"69.36458876/97.71869196\",\"33.91550011/98.86943574\",\"30.05882245\",\"30.28671077\",\"32.57720017\",\"32.72283304\",\"33.91550011\",\"34.18364003\",\"34.21206098\",\"34.52451385\",\"34.62365962\",\"35.28611282\",\"35.84740877\",\"38.7858038\",\"39.53833914\",\"40.23689374\",\"40.45755098\",\"42.07545454\",\"42.26170081\",\"44.66826172\",\"45.08327748\",\"47.26426911\",\"49.07256322\",\"49.58667722\",\"50.28649612\",\"50.4581598\",\"50.53478829\",\"51.04775177\",\"51.54772027\",\"52.04540477\",\"52.10797973\",\"52.34800399\",\"53.97105215\",\"54.63510555\",\"55.34001756\",\"55.48216114\",\"56.2538175\",\"57.23870632\",\"58.84095622\",\"60.18259939\",\"60.45555629\",\"60.45788574\",\"61.10666454\",\"61.37928945\",\"61.83020602\",\"62.0730638\",\"62.22267576\",\"62.27101367\",\"64.03932042\",\"64.17698887\",\"66.56089447\",\"66.74671857\",\"67.31925747\",\"67.37202755\",\"67.94685548\",\"68.46852179\",\"69.07014406\",\"69.36458876\",\"70.66150955\",\"71.79646206\",\"72.34649423\",\"74.24869137\",\"74.49269242\",\"74.775893\",\"74.78925296\",\"75.01365839\",\"75.02474557\",\"75.39561147\",\"75.47770201\",\"76.0987867\",\"76.97878373\",\"77.19303493\",\"77.92409145\",\"78.63542435\",\"79.03273605\",\"79.94481794\",\"80.19018075\",\"80.27957401\",\"80.366756\",\"82.22666158\",\"82.30705337\",\"82.36875376\",\"83.48916274\",\"83.90239366\",\"84.43281996\",\"85.40451939\",\"88.91389642\",\"89.67677575\",\"89.84580671\",\"90.44855097\",\"90.54671411\",\"91.5649745\",\"93.1143888\",\"94.09433113\",\"94.44336777\",\"94.83450672\",\"95.86155507\",\"97.64563396\",\"97.77159928\",\"99.27252693\",\"99.31500881\",\"99.8278578\"],\"labels\":[\"30.60326323\",\"35.57070347\",\"38.22527806\",\"38.80067034\",\"39.26147251\",\"40.61825516\",\"41.09209808\",\"41.57341523\",\"42.50840944\",\"42.71987854\",\"42.83843832\",\"43.30717306\",\"43.39060181\",\"43.53339331\",\"43.89499752\",\"44.2095286\",\"44.82162893\",\"45.35828361\",\"45.6943068\",\"45.82270146\",\"46.55401354\",\"46.67857411\",\"46.85629026\",\"47.02051395\",\"47.57596365\",\"48.3802858\",\"48.85581153\",\"49.59297387\",\"49.80453881\",\"50.25610789\",\"51.88321182\",\"52.06099195\",\"52.21388588\",\"52.74046973\",\"56.30804622\",\"56.31637178\",\"57.05198398\",\"59.51428198\",\"59.80895099\",\"60.39634246\",\"60.76950526\",\"60.99139403\",\"60.999031\",\"63.12762377\",\"64.93193801\",\"64.99568096\",\"65.56892161\",\"65.79936593\",\"66.45008615\",\"66.58935318\",\"68.77540947\",\"68.86157272\",\"68.97235999\",\"69.43286012\",\"69.8037889\",\"69.82457123\",\"69.95445795\",\"70.4582\",\"71.16774802\",\"72.36925193\",\"72.80788731\",\"72.90219803\",\"73.0949981\",\"74.16311935\",\"75.23772034\",\"75.34437644\",\"75.80985953\",\"75.85844831\",\"76.03681085\",\"76.4819633\",\"77.15910509\",\"78.02469282\",\"78.03168802\",\"78.45356225\",\"78.844786\",\"80.90806059\",\"84.84513685\",\"85.5943071\",\"85.75993667\",\"86.3085521\",\"86.72782233\",\"87.10385094\",\"87.42056972\",\"87.50879176\",\"88.475865\",\"88.69629255\",\"89.20735014\",\"89.5298129\",\"90.424539\",\"90.9601479\",\"92.11606081\",\"92.92713789\",\"95.59854761\",\"96.22759297\",\"96.51142588\",\"96.64742717\",\"96.76882412\",\"97.53518549\",\"97.71869196\",\"98.86943574\",\"30.05882245\",\"30.28671077\",\"32.57720017\",\"32.72283304\",\"33.91550011\",\"34.18364003\",\"34.21206098\",\"34.52451385\",\"34.62365962\",\"35.28611282\",\"35.84740877\",\"38.7858038\",\"39.53833914\",\"40.23689374\",\"40.45755098\",\"42.07545454\",\"42.26170081\",\"44.66826172\",\"45.08327748\",\"47.26426911\",\"49.07256322\",\"49.58667722\",\"50.28649612\",\"50.4581598\",\"50.53478829\",\"51.04775177\",\"51.54772027\",\"52.04540477\",\"52.10797973\",\"52.34800399\",\"53.97105215\",\"54.63510555\",\"55.34001756\",\"55.48216114\",\"56.2538175\",\"57.23870632\",\"58.84095622\",\"60.18259939\",\"60.45555629\",\"60.45788574\",\"61.10666454\",\"61.37928945\",\"61.83020602\",\"62.0730638\",\"62.22267576\",\"62.27101367\",\"64.03932042\",\"64.17698887\",\"66.56089447\",\"66.74671857\",\"67.31925747\",\"67.37202755\",\"67.94685548\",\"68.46852179\",\"69.07014406\",\"69.36458876\",\"70.66150955\",\"71.79646206\",\"72.34649423\",\"74.24869137\",\"74.49269242\",\"74.775893\",\"74.78925296\",\"75.01365839\",\"75.02474557\",\"75.39561147\",\"75.47770201\",\"76.0987867\",\"76.97878373\",\"77.19303493\",\"77.92409145\",\"78.63542435\",\"79.03273605\",\"79.94481794\",\"80.19018075\",\"80.27957401\",\"80.366756\",\"82.22666158\",\"82.30705337\",\"82.36875376\",\"83.48916274\",\"83.90239366\",\"84.43281996\",\"85.40451939\",\"88.91389642\",\"89.67677575\",\"89.84580671\",\"90.44855097\",\"90.54671411\",\"91.5649745\",\"93.1143888\",\"94.09433113\",\"94.44336777\",\"94.83450672\",\"95.86155507\",\"97.64563396\",\"97.77159928\",\"99.27252693\",\"99.31500881\",\"99.8278578\"],\"marker\":{\"coloraxis\":\"coloraxis\",\"colors\":[0.0,0.0,0.0,0.0,0.0,0.0,0.0,0.0,0.0,0.0,0.0,0.0,1.0,1.0,0.0,0.0,1.0,1.0,1.0,0.0,1.0,0.0,0.0,0.0,1.0,1.0,0.0,0.0,0.0,0.0,0.0,0.0,0.0,1.0,1.0,0.0,1.0,1.0,0.0,0.0,0.0,1.0,1.0,0.0,1.0,0.0,1.0,1.0,0.0,1.0,1.0,1.0,1.0,1.0,1.0,1.0,1.0,1.0,0.0,1.0,1.0,0.0,1.0,1.0,0.0,1.0,1.0,1.0,0.0,1.0,1.0,0.0,1.0,1.0,0.0,1.0,1.0,1.0,1.0,1.0,1.0,1.0,1.0,1.0,1.0,1.0,1.0,1.0,1.0,1.0,1.0,1.0,0.0,1.0,1.0,1.0,1.0,1.0,1.0,0.0,0.0,0.0,0.0,0.0,0.0,0.0,0.0,0.0,0.0,0.0,0.0,0.0,0.0,0.0,1.0,0.0,1.0,0.0,0.0,1.0,0.0,0.0,0.0,1.0,0.0,0.0,0.0,1.0,0.0,0.0,1.0,0.0,1.0,0.0,0.0,1.0,1.0,1.0,0.0,1.0,1.0,1.0,0.0,1.0,0.0,1.0,1.0,1.0,0.0,1.0,1.0,0.0,0.0,1.0,1.0,1.0,1.0,1.0,1.0,1.0,1.0,1.0,0.0,0.0,1.0,1.0,1.0,1.0,1.0,1.0,1.0,1.0,1.0,1.0,1.0,1.0,1.0,0.0,1.0,0.0,1.0,1.0,1.0,1.0,1.0,1.0,1.0,1.0,1.0,1.0,0.0,1.0,1.0,1.0,0.0,1.0,1.0,1.0,1.0,1.0]},\"name\":\"\",\"parents\":[\"75.01365839\",\"55.48216114\",\"95.86155507\",\"93.1143888\",\"56.2538175\",\"82.36875376\",\"66.56089447\",\"74.78925296\",\"60.45555629\",\"82.22666158\",\"67.37202755\",\"32.72283304\",\"90.54671411\",\"84.43281996\",\"30.28671077\",\"34.21206098\",\"80.19018075\",\"89.84580671\",\"94.83450672\",\"51.04775177\",\"75.02474557\",\"67.94685548\",\"51.54772027\",\"35.28611282\",\"76.97878373\",\"83.48916274\",\"50.53478829\",\"30.05882245\",\"50.28649612\",\"61.83020602\",\"49.07256322\",\"62.22267576\",\"54.63510555\",\"69.07014406\",\"83.90239366\",\"45.08327748\",\"85.40451939\",\"57.23870632\",\"49.58667722\",\"34.52451385\",\"52.34800399\",\"66.74671857\",\"99.27252693\",\"52.10797973\",\"55.34001756\",\"38.7858038\",\"94.44336777\",\"89.67677575\",\"44.66826172\",\"67.31925747\",\"99.31500881\",\"97.64563396\",\"77.92409145\",\"52.04540477\",\"88.91389642\",\"74.24869137\",\"62.27101367\",\"77.19303493\",\"40.23689374\",\"99.8278578\",\"61.37928945\",\"35.84740877\",\"60.45788574\",\"79.94481794\",\"34.18364003\",\"79.03273605\",\"50.4581598\",\"58.84095622\",\"39.53833914\",\"82.30705337\",\"94.09433113\",\"34.62365962\",\"64.03932042\",\"71.79646206\",\"42.07545454\",\"64.17698887\",\"74.49269242\",\"68.46852179\",\"75.39561147\",\"60.18259939\",\"97.77159928\",\"42.26170081\",\"76.0987867\",\"90.44855097\",\"47.26426911\",\"91.5649745\",\"53.97105215\",\"74.775893\",\"75.47770201\",\"80.366756\",\"80.27957401\",\"70.66150955\",\"32.57720017\",\"72.34649423\",\"61.10666454\",\"78.63542435\",\"62.0730638\",\"40.45755098\",\"69.36458876\",\"33.91550011\",\"\",\"\",\"\",\"\",\"\",\"\",\"\",\"\",\"\",\"\",\"\",\"\",\"\",\"\",\"\",\"\",\"\",\"\",\"\",\"\",\"\",\"\",\"\",\"\",\"\",\"\",\"\",\"\",\"\",\"\",\"\",\"\",\"\",\"\",\"\",\"\",\"\",\"\",\"\",\"\",\"\",\"\",\"\",\"\",\"\",\"\",\"\",\"\",\"\",\"\",\"\",\"\",\"\",\"\",\"\",\"\",\"\",\"\",\"\",\"\",\"\",\"\",\"\",\"\",\"\",\"\",\"\",\"\",\"\",\"\",\"\",\"\",\"\",\"\",\"\",\"\",\"\",\"\",\"\",\"\",\"\",\"\",\"\",\"\",\"\",\"\",\"\",\"\",\"\",\"\",\"\",\"\",\"\",\"\",\"\",\"\",\"\",\"\",\"\",\"\"],\"values\":[1,1,1,1,1,1,1,1,1,1,1,1,1,1,1,1,1,1,1,1,1,1,1,1,1,1,1,1,1,1,1,1,1,1,1,1,1,1,1,1,1,1,1,1,1,1,1,1,1,1,1,1,1,1,1,1,1,1,1,1,1,1,1,1,1,1,1,1,1,1,1,1,1,1,1,1,1,1,1,1,1,1,1,1,1,1,1,1,1,1,1,1,1,1,1,1,1,1,1,1,1,1,1,1,1,1,1,1,1,1,1,1,1,1,1,1,1,1,1,1,1,1,1,1,1,1,1,1,1,1,1,1,1,1,1,1,1,1,1,1,1,1,1,1,1,1,1,1,1,1,1,1,1,1,1,1,1,1,1,1,1,1,1,1,1,1,1,1,1,1,1,1,1,1,1,1,1,1,1,1,1,1,1,1,1,1,1,1,1,1,1,1,1,1,1,1,1,1,1,1],\"type\":\"sunburst\"}],                        {\"template\":{\"data\":{\"histogram2dcontour\":[{\"type\":\"histogram2dcontour\",\"colorbar\":{\"outlinewidth\":0,\"ticks\":\"\"},\"colorscale\":[[0.0,\"#0d0887\"],[0.1111111111111111,\"#46039f\"],[0.2222222222222222,\"#7201a8\"],[0.3333333333333333,\"#9c179e\"],[0.4444444444444444,\"#bd3786\"],[0.5555555555555556,\"#d8576b\"],[0.6666666666666666,\"#ed7953\"],[0.7777777777777778,\"#fb9f3a\"],[0.8888888888888888,\"#fdca26\"],[1.0,\"#f0f921\"]]}],\"choropleth\":[{\"type\":\"choropleth\",\"colorbar\":{\"outlinewidth\":0,\"ticks\":\"\"}}],\"histogram2d\":[{\"type\":\"histogram2d\",\"colorbar\":{\"outlinewidth\":0,\"ticks\":\"\"},\"colorscale\":[[0.0,\"#0d0887\"],[0.1111111111111111,\"#46039f\"],[0.2222222222222222,\"#7201a8\"],[0.3333333333333333,\"#9c179e\"],[0.4444444444444444,\"#bd3786\"],[0.5555555555555556,\"#d8576b\"],[0.6666666666666666,\"#ed7953\"],[0.7777777777777778,\"#fb9f3a\"],[0.8888888888888888,\"#fdca26\"],[1.0,\"#f0f921\"]]}],\"heatmap\":[{\"type\":\"heatmap\",\"colorbar\":{\"outlinewidth\":0,\"ticks\":\"\"},\"colorscale\":[[0.0,\"#0d0887\"],[0.1111111111111111,\"#46039f\"],[0.2222222222222222,\"#7201a8\"],[0.3333333333333333,\"#9c179e\"],[0.4444444444444444,\"#bd3786\"],[0.5555555555555556,\"#d8576b\"],[0.6666666666666666,\"#ed7953\"],[0.7777777777777778,\"#fb9f3a\"],[0.8888888888888888,\"#fdca26\"],[1.0,\"#f0f921\"]]}],\"heatmapgl\":[{\"type\":\"heatmapgl\",\"colorbar\":{\"outlinewidth\":0,\"ticks\":\"\"},\"colorscale\":[[0.0,\"#0d0887\"],[0.1111111111111111,\"#46039f\"],[0.2222222222222222,\"#7201a8\"],[0.3333333333333333,\"#9c179e\"],[0.4444444444444444,\"#bd3786\"],[0.5555555555555556,\"#d8576b\"],[0.6666666666666666,\"#ed7953\"],[0.7777777777777778,\"#fb9f3a\"],[0.8888888888888888,\"#fdca26\"],[1.0,\"#f0f921\"]]}],\"contourcarpet\":[{\"type\":\"contourcarpet\",\"colorbar\":{\"outlinewidth\":0,\"ticks\":\"\"}}],\"contour\":[{\"type\":\"contour\",\"colorbar\":{\"outlinewidth\":0,\"ticks\":\"\"},\"colorscale\":[[0.0,\"#0d0887\"],[0.1111111111111111,\"#46039f\"],[0.2222222222222222,\"#7201a8\"],[0.3333333333333333,\"#9c179e\"],[0.4444444444444444,\"#bd3786\"],[0.5555555555555556,\"#d8576b\"],[0.6666666666666666,\"#ed7953\"],[0.7777777777777778,\"#fb9f3a\"],[0.8888888888888888,\"#fdca26\"],[1.0,\"#f0f921\"]]}],\"surface\":[{\"type\":\"surface\",\"colorbar\":{\"outlinewidth\":0,\"ticks\":\"\"},\"colorscale\":[[0.0,\"#0d0887\"],[0.1111111111111111,\"#46039f\"],[0.2222222222222222,\"#7201a8\"],[0.3333333333333333,\"#9c179e\"],[0.4444444444444444,\"#bd3786\"],[0.5555555555555556,\"#d8576b\"],[0.6666666666666666,\"#ed7953\"],[0.7777777777777778,\"#fb9f3a\"],[0.8888888888888888,\"#fdca26\"],[1.0,\"#f0f921\"]]}],\"mesh3d\":[{\"type\":\"mesh3d\",\"colorbar\":{\"outlinewidth\":0,\"ticks\":\"\"}}],\"scatter\":[{\"fillpattern\":{\"fillmode\":\"overlay\",\"size\":10,\"solidity\":0.2},\"type\":\"scatter\"}],\"parcoords\":[{\"type\":\"parcoords\",\"line\":{\"colorbar\":{\"outlinewidth\":0,\"ticks\":\"\"}}}],\"scatterpolargl\":[{\"type\":\"scatterpolargl\",\"marker\":{\"colorbar\":{\"outlinewidth\":0,\"ticks\":\"\"}}}],\"bar\":[{\"error_x\":{\"color\":\"#2a3f5f\"},\"error_y\":{\"color\":\"#2a3f5f\"},\"marker\":{\"line\":{\"color\":\"#E5ECF6\",\"width\":0.5},\"pattern\":{\"fillmode\":\"overlay\",\"size\":10,\"solidity\":0.2}},\"type\":\"bar\"}],\"scattergeo\":[{\"type\":\"scattergeo\",\"marker\":{\"colorbar\":{\"outlinewidth\":0,\"ticks\":\"\"}}}],\"scatterpolar\":[{\"type\":\"scatterpolar\",\"marker\":{\"colorbar\":{\"outlinewidth\":0,\"ticks\":\"\"}}}],\"histogram\":[{\"marker\":{\"pattern\":{\"fillmode\":\"overlay\",\"size\":10,\"solidity\":0.2}},\"type\":\"histogram\"}],\"scattergl\":[{\"type\":\"scattergl\",\"marker\":{\"colorbar\":{\"outlinewidth\":0,\"ticks\":\"\"}}}],\"scatter3d\":[{\"type\":\"scatter3d\",\"line\":{\"colorbar\":{\"outlinewidth\":0,\"ticks\":\"\"}},\"marker\":{\"colorbar\":{\"outlinewidth\":0,\"ticks\":\"\"}}}],\"scattermapbox\":[{\"type\":\"scattermapbox\",\"marker\":{\"colorbar\":{\"outlinewidth\":0,\"ticks\":\"\"}}}],\"scatterternary\":[{\"type\":\"scatterternary\",\"marker\":{\"colorbar\":{\"outlinewidth\":0,\"ticks\":\"\"}}}],\"scattercarpet\":[{\"type\":\"scattercarpet\",\"marker\":{\"colorbar\":{\"outlinewidth\":0,\"ticks\":\"\"}}}],\"carpet\":[{\"aaxis\":{\"endlinecolor\":\"#2a3f5f\",\"gridcolor\":\"white\",\"linecolor\":\"white\",\"minorgridcolor\":\"white\",\"startlinecolor\":\"#2a3f5f\"},\"baxis\":{\"endlinecolor\":\"#2a3f5f\",\"gridcolor\":\"white\",\"linecolor\":\"white\",\"minorgridcolor\":\"white\",\"startlinecolor\":\"#2a3f5f\"},\"type\":\"carpet\"}],\"table\":[{\"cells\":{\"fill\":{\"color\":\"#EBF0F8\"},\"line\":{\"color\":\"white\"}},\"header\":{\"fill\":{\"color\":\"#C8D4E3\"},\"line\":{\"color\":\"white\"}},\"type\":\"table\"}],\"barpolar\":[{\"marker\":{\"line\":{\"color\":\"#E5ECF6\",\"width\":0.5},\"pattern\":{\"fillmode\":\"overlay\",\"size\":10,\"solidity\":0.2}},\"type\":\"barpolar\"}],\"pie\":[{\"automargin\":true,\"type\":\"pie\"}]},\"layout\":{\"autotypenumbers\":\"strict\",\"colorway\":[\"#636efa\",\"#EF553B\",\"#00cc96\",\"#ab63fa\",\"#FFA15A\",\"#19d3f3\",\"#FF6692\",\"#B6E880\",\"#FF97FF\",\"#FECB52\"],\"font\":{\"color\":\"#2a3f5f\"},\"hovermode\":\"closest\",\"hoverlabel\":{\"align\":\"left\"},\"paper_bgcolor\":\"white\",\"plot_bgcolor\":\"#E5ECF6\",\"polar\":{\"bgcolor\":\"#E5ECF6\",\"angularaxis\":{\"gridcolor\":\"white\",\"linecolor\":\"white\",\"ticks\":\"\"},\"radialaxis\":{\"gridcolor\":\"white\",\"linecolor\":\"white\",\"ticks\":\"\"}},\"ternary\":{\"bgcolor\":\"#E5ECF6\",\"aaxis\":{\"gridcolor\":\"white\",\"linecolor\":\"white\",\"ticks\":\"\"},\"baxis\":{\"gridcolor\":\"white\",\"linecolor\":\"white\",\"ticks\":\"\"},\"caxis\":{\"gridcolor\":\"white\",\"linecolor\":\"white\",\"ticks\":\"\"}},\"coloraxis\":{\"colorbar\":{\"outlinewidth\":0,\"ticks\":\"\"}},\"colorscale\":{\"sequential\":[[0.0,\"#0d0887\"],[0.1111111111111111,\"#46039f\"],[0.2222222222222222,\"#7201a8\"],[0.3333333333333333,\"#9c179e\"],[0.4444444444444444,\"#bd3786\"],[0.5555555555555556,\"#d8576b\"],[0.6666666666666666,\"#ed7953\"],[0.7777777777777778,\"#fb9f3a\"],[0.8888888888888888,\"#fdca26\"],[1.0,\"#f0f921\"]],\"sequentialminus\":[[0.0,\"#0d0887\"],[0.1111111111111111,\"#46039f\"],[0.2222222222222222,\"#7201a8\"],[0.3333333333333333,\"#9c179e\"],[0.4444444444444444,\"#bd3786\"],[0.5555555555555556,\"#d8576b\"],[0.6666666666666666,\"#ed7953\"],[0.7777777777777778,\"#fb9f3a\"],[0.8888888888888888,\"#fdca26\"],[1.0,\"#f0f921\"]],\"diverging\":[[0,\"#8e0152\"],[0.1,\"#c51b7d\"],[0.2,\"#de77ae\"],[0.3,\"#f1b6da\"],[0.4,\"#fde0ef\"],[0.5,\"#f7f7f7\"],[0.6,\"#e6f5d0\"],[0.7,\"#b8e186\"],[0.8,\"#7fbc41\"],[0.9,\"#4d9221\"],[1,\"#276419\"]]},\"xaxis\":{\"gridcolor\":\"white\",\"linecolor\":\"white\",\"ticks\":\"\",\"title\":{\"standoff\":15},\"zerolinecolor\":\"white\",\"automargin\":true,\"zerolinewidth\":2},\"yaxis\":{\"gridcolor\":\"white\",\"linecolor\":\"white\",\"ticks\":\"\",\"title\":{\"standoff\":15},\"zerolinecolor\":\"white\",\"automargin\":true,\"zerolinewidth\":2},\"scene\":{\"xaxis\":{\"backgroundcolor\":\"#E5ECF6\",\"gridcolor\":\"white\",\"linecolor\":\"white\",\"showbackground\":true,\"ticks\":\"\",\"zerolinecolor\":\"white\",\"gridwidth\":2},\"yaxis\":{\"backgroundcolor\":\"#E5ECF6\",\"gridcolor\":\"white\",\"linecolor\":\"white\",\"showbackground\":true,\"ticks\":\"\",\"zerolinecolor\":\"white\",\"gridwidth\":2},\"zaxis\":{\"backgroundcolor\":\"#E5ECF6\",\"gridcolor\":\"white\",\"linecolor\":\"white\",\"showbackground\":true,\"ticks\":\"\",\"zerolinecolor\":\"white\",\"gridwidth\":2}},\"shapedefaults\":{\"line\":{\"color\":\"#2a3f5f\"}},\"annotationdefaults\":{\"arrowcolor\":\"#2a3f5f\",\"arrowhead\":0,\"arrowwidth\":1},\"geo\":{\"bgcolor\":\"white\",\"landcolor\":\"#E5ECF6\",\"subunitcolor\":\"white\",\"showland\":true,\"showlakes\":true,\"lakecolor\":\"white\"},\"title\":{\"x\":0.05},\"mapbox\":{\"style\":\"light\"}}},\"coloraxis\":{\"colorbar\":{\"title\":{\"text\":\"admission\"}},\"colorscale\":[[0.0,\"#0d0887\"],[0.1111111111111111,\"#46039f\"],[0.2222222222222222,\"#7201a8\"],[0.3333333333333333,\"#9c179e\"],[0.4444444444444444,\"#bd3786\"],[0.5555555555555556,\"#d8576b\"],[0.6666666666666666,\"#ed7953\"],[0.7777777777777778,\"#fb9f3a\"],[0.8888888888888888,\"#fdca26\"],[1.0,\"#f0f921\"]]},\"legend\":{\"tracegroupgap\":0},\"title\":{\"text\":\"Sunburst Chart of the dataset\"}},                        {\"responsive\": true}                    ).then(function(){\n",
              "                            \n",
              "var gd = document.getElementById('5b6f845a-dea9-42bd-869f-b5f64a66baa0');\n",
              "var x = new MutationObserver(function (mutations, observer) {{\n",
              "        var display = window.getComputedStyle(gd).display;\n",
              "        if (!display || display === 'none') {{\n",
              "            console.log([gd, 'removed!']);\n",
              "            Plotly.purge(gd);\n",
              "            observer.disconnect();\n",
              "        }}\n",
              "}});\n",
              "\n",
              "// Listen for the removal of the full notebook cells\n",
              "var notebookContainer = gd.closest('#notebook-container');\n",
              "if (notebookContainer) {{\n",
              "    x.observe(notebookContainer, {childList: true});\n",
              "}}\n",
              "\n",
              "// Listen for the clearing of the current output cell\n",
              "var outputEl = gd.closest('.output');\n",
              "if (outputEl) {{\n",
              "    x.observe(outputEl, {childList: true});\n",
              "}}\n",
              "\n",
              "                        })                };                            </script>        </div>\n",
              "</body>\n",
              "</html>"
            ]
          },
          "metadata": {}
        }
      ]
    },
    {
      "cell_type": "code",
      "source": [
        "exam1_scores = data['paper1']\n",
        "exam2_scores = data['paper2']\n",
        "admission = data['admission']\n",
        "\n",
        "# Create a DataFrame with the exam scores and admission decisions\n",
        "df = pd.DataFrame({'Exam 1': exam1_scores, 'Exam 2': exam2_scores, 'Admission': admission})\n",
        "\n",
        "# Calculate the correlation matrix\n",
        "corr_matrix = df.corr()\n",
        "\n",
        "# Plot the heatmap\n",
        "plt.figure(figsize=(8, 6))\n",
        "sns.heatmap(corr_matrix, annot=True, cmap='coolwarm')\n",
        "plt.title('Correlation Heatmap')\n",
        "plt.show()"
      ],
      "metadata": {
        "colab": {
          "base_uri": "https://localhost:8080/",
          "height": 545
        },
        "id": "gxSrrsN-pHnU",
        "outputId": "38e079b3-c420-42d9-aa7b-1d3b3d40290d"
      },
      "execution_count": 35,
      "outputs": [
        {
          "output_type": "display_data",
          "data": {
            "text/plain": [
              "<Figure size 800x600 with 2 Axes>"
            ],
            "image/png": "[encoded data removed]"
          },
          "metadata": {}
        }
      ]
    },
    {
      "cell_type": "markdown",
      "source": [
        "Step-4: Splitting the data into features (exam scores) and target (admissions decision)"
      ],
      "metadata": {
        "id": "8z_N6UnAPN0E"
      }
    },
    {
      "cell_type": "code",
      "source": [
        "X = data[['paper1', 'paper2']]  # Features\n",
        "y = data['admission']  # Target"
      ],
      "metadata": {
        "id": "8i5ubRafPjH2"
      },
      "execution_count": 21,
      "outputs": []
    },
    {
      "cell_type": "markdown",
      "source": [
        "Step-5: Split the data into training and testing sets "
      ],
      "metadata": {
        "id": "vDFmHAhZPnhB"
      }
    },
    {
      "cell_type": "code",
      "source": [
        "X_train, X_test, y_train, y_test = train_test_split(X, y, test_size=0.2, random_state=42)"
      ],
      "metadata": {
        "id": "55KuWqo5PuxD"
      },
      "execution_count": 22,
      "outputs": []
    },
    {
      "cell_type": "markdown",
      "source": [
        "Step-6: Create an instance of the logistic regression model"
      ],
      "metadata": {
        "id": "79yEMaE3P8My"
      }
    },
    {
      "cell_type": "code",
      "source": [
        "model = LogisticRegression()"
      ],
      "metadata": {
        "id": "L2-6vfCnQCDa"
      },
      "execution_count": 23,
      "outputs": []
    },
    {
      "cell_type": "markdown",
      "source": [
        "Step-7: Train the model on the training data"
      ],
      "metadata": {
        "id": "PYzhFBzZQIMo"
      }
    },
    {
      "cell_type": "code",
      "source": [
        "model.fit(X_train, y_train)"
      ],
      "metadata": {
        "colab": {
          "base_uri": "https://localhost:8080/",
          "height": 75
        },
        "id": "S1QFpljoQMin",
        "outputId": "874fdd15-5ea7-43f1-fab0-e416225ab1aa"
      },
      "execution_count": 24,
      "outputs": [
        {
          "output_type": "execute_result",
          "data": {
            "text/plain": [
              "LogisticRegression()"
            ],
            "text/html": [
              "<style>#sk-container-id-2 {color: black;background-color: white;}#sk-container-id-2 pre{padding: 0;}#sk-container-id-2 div.sk-toggleable {background-color: white;}#sk-container-id-2 label.sk-toggleable__label {cursor: pointer;display: block;width: 100%;margin-bottom: 0;padding: 0.3em;box-sizing: border-box;text-align: center;}#sk-container-id-2 label.sk-toggleable__label-arrow:before {content: \"▸\";float: left;margin-right: 0.25em;color: #696969;}#sk-container-id-2 label.sk-toggleable__label-arrow:hover:before {color: black;}#sk-container-id-2 div.sk-estimator:hover label.sk-toggleable__label-arrow:before {color: black;}#sk-container-id-2 div.sk-toggleable__content {max-height: 0;max-width: 0;overflow: hidden;text-align: left;background-color: #f0f8ff;}#sk-container-id-2 div.sk-toggleable__content pre {margin: 0.2em;color: black;border-radius: 0.25em;background-color: #f0f8ff;}#sk-container-id-2 input.sk-toggleable__control:checked~div.sk-toggleable__content {max-height: 200px;max-width: 100%;overflow: auto;}#sk-container-id-2 input.sk-toggleable__control:checked~label.sk-toggleable__label-arrow:before {content: \"▾\";}#sk-container-id-2 div.sk-estimator input.sk-toggleable__control:checked~label.sk-toggleable__label {background-color: #d4ebff;}#sk-container-id-2 div.sk-label input.sk-toggleable__control:checked~label.sk-toggleable__label {background-color: #d4ebff;}#sk-container-id-2 input.sk-hidden--visually {border: 0;clip: rect(1px 1px 1px 1px);clip: rect(1px, 1px, 1px, 1px);height: 1px;margin: -1px;overflow: hidden;padding: 0;position: absolute;width: 1px;}#sk-container-id-2 div.sk-estimator {font-family: monospace;background-color: #f0f8ff;border: 1px dotted black;border-radius: 0.25em;box-sizing: border-box;margin-bottom: 0.5em;}#sk-container-id-2 div.sk-estimator:hover {background-color: #d4ebff;}#sk-container-id-2 div.sk-parallel-item::after {content: \"\";width: 100%;border-bottom: 1px solid gray;flex-grow: 1;}#sk-container-id-2 div.sk-label:hover label.sk-toggleable__label {background-color: #d4ebff;}#sk-container-id-2 div.sk-serial::before {content: \"\";position: absolute;border-left: 1px solid gray;box-sizing: border-box;top: 0;bottom: 0;left: 50%;z-index: 0;}#sk-container-id-2 div.sk-serial {display: flex;flex-direction: column;align-items: center;background-color: white;padding-right: 0.2em;padding-left: 0.2em;position: relative;}#sk-container-id-2 div.sk-item {position: relative;z-index: 1;}#sk-container-id-2 div.sk-parallel {display: flex;align-items: stretch;justify-content: center;background-color: white;position: relative;}#sk-container-id-2 div.sk-item::before, #sk-container-id-2 div.sk-parallel-item::before {content: \"\";position: absolute;border-left: 1px solid gray;box-sizing: border-box;top: 0;bottom: 0;left: 50%;z-index: -1;}#sk-container-id-2 div.sk-parallel-item {display: flex;flex-direction: column;z-index: 1;position: relative;background-color: white;}#sk-container-id-2 div.sk-parallel-item:first-child::after {align-self: flex-end;width: 50%;}#sk-container-id-2 div.sk-parallel-item:last-child::after {align-self: flex-start;width: 50%;}#sk-container-id-2 div.sk-parallel-item:only-child::after {width: 0;}#sk-container-id-2 div.sk-dashed-wrapped {border: 1px dashed gray;margin: 0 0.4em 0.5em 0.4em;box-sizing: border-box;padding-bottom: 0.4em;background-color: white;}#sk-container-id-2 div.sk-label label {font-family: monospace;font-weight: bold;display: inline-block;line-height: 1.2em;}#sk-container-id-2 div.sk-label-container {text-align: center;}#sk-container-id-2 div.sk-container {/* jupyter's `normalize.less` sets `[hidden] { display: none; }` but bootstrap.min.css set `[hidden] { display: none !important; }` so we also need the `!important` here to be able to override the default hidden behavior on the sphinx rendered scikit-learn.org. See: https://github.com/scikit-learn/scikit-learn/issues/21755 */display: inline-block !important;position: relative;}#sk-container-id-2 div.sk-text-repr-fallback {display: none;}</style><div id=\"sk-container-id-2\" class=\"sk-top-container\"><div class=\"sk-text-repr-fallback\"><pre>LogisticRegression()</pre><b>In a Jupyter environment, please rerun this cell to show the HTML representation or trust the notebook. <br />On GitHub, the HTML representation is unable to render, please try loading this page with nbviewer.org.</b></div><div class=\"sk-container\" hidden><div class=\"sk-item\"><div class=\"sk-estimator sk-toggleable\"><input class=\"sk-toggleable__control sk-hidden--visually\" id=\"sk-estimator-id-2\" type=\"checkbox\" checked><label for=\"sk-estimator-id-2\" class=\"sk-toggleable__label sk-toggleable__label-arrow\">LogisticRegression</label><div class=\"sk-toggleable__content\"><pre>LogisticRegression()</pre></div></div></div></div></div>"
            ]
          },
          "metadata": {},
          "execution_count": 24
        }
      ]
    },
    {
      "cell_type": "markdown",
      "source": [
        "Step-8: Make predictions on the testing data"
      ],
      "metadata": {
        "id": "ti1bRfgMQP7z"
      }
    },
    {
      "cell_type": "code",
      "source": [
        "y_pred = model.predict(X_test)\n",
        "print(y_pred)"
      ],
      "metadata": {
        "colab": {
          "base_uri": "https://localhost:8080/"
        },
        "id": "PZxZZNlnQty_",
        "outputId": "0cff0974-0216-4330-8c02-bcf791910b0f"
      },
      "execution_count": 25,
      "outputs": [
        {
          "output_type": "stream",
          "name": "stdout",
          "text": [
            "[0 0 0 0 0 0 0 1 1 0 1 1 1 0 1 1 1 0 1 1]\n"
          ]
        }
      ]
    },
    {
      "cell_type": "markdown",
      "source": [
        "Step-9: Compute the confusion matrix"
      ],
      "metadata": {
        "id": "9Go9EZTAQxT2"
      }
    },
    {
      "cell_type": "code",
      "source": [
        "cm = confusion_matrix(y_test, y_pred)\n",
        "print(\"Confusion Matrix:\")\n",
        "print(cm)"
      ],
      "metadata": {
        "colab": {
          "base_uri": "https://localhost:8080/"
        },
        "id": "x0qFGtUGQ1fb",
        "outputId": "997001d1-a796-494c-909a-014501be365b"
      },
      "execution_count": 36,
      "outputs": [
        {
          "output_type": "stream",
          "name": "stdout",
          "text": [
            "Confusion Matrix:\n",
            "[[7 1]\n",
            " [3 9]]\n"
          ]
        }
      ]
    },
    {
      "cell_type": "markdown",
      "source": [
        "Step-10: Plotting the confusion matrix"
      ],
      "metadata": {
        "id": "T-EBqJ9pmarY"
      }
    },
    {
      "cell_type": "code",
      "source": [
        "# Plot the confusion matrix\n",
        "plt.figure(figsize=(8, 6))\n",
        "sns.heatmap(cm, annot=True, fmt='d', cmap='Blues')\n",
        "plt.xlabel('Predicted')\n",
        "plt.ylabel('Actual')\n",
        "plt.title('Confusion Matrix')\n",
        "plt.show()"
      ],
      "metadata": {
        "colab": {
          "base_uri": "https://localhost:8080/",
          "height": 564
        },
        "id": "pFxVVwl6R0RO",
        "outputId": "67a49b75-ccb1-4c8a-869d-81044452a181"
      },
      "execution_count": 27,
      "outputs": [
        {
          "output_type": "display_data",
          "data": {
            "text/plain": [
              "<Figure size 800x600 with 2 Axes>"
            ],
            "image/png": "[encoded data removed]"
          },
          "metadata": {}
        }
      ]
    },
    {
      "cell_type": "markdown",
      "source": [
        "Step-9: Compute the accuracy of the model"
      ],
      "metadata": {
        "id": "a4gtJcfGRU8t"
      }
    },
    {
      "cell_type": "code",
      "source": [
        "accuracy = accuracy_score(y_test, y_pred)\n",
        "print(f\"Accuracy: {accuracy}\")"
      ],
      "metadata": {
        "colab": {
          "base_uri": "https://localhost:8080/"
        },
        "id": "CLgfDysjRZFB",
        "outputId": "91baf973-69e5-4189-f729-349dd50ecb7f"
      },
      "execution_count": 28,
      "outputs": [
        {
          "output_type": "stream",
          "name": "stdout",
          "text": [
            "Accuracy: 0.8\n"
          ]
        }
      ]
    }
  ]
}